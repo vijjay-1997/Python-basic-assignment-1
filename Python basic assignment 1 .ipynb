{
 "cells": [
  {
   "cell_type": "markdown",
   "id": "c4e4d6c7",
   "metadata": {},
   "source": [
    "# Assignment 1 Solutions\n",
    "\n",
    "### 1. In the below elements which of them are values or an expression?  eg:- values can be integer or string and expression will be mathematical operators.\n",
    "\n",
    "' * , 'hello' , -87.8 , - , / , + , 6\n",
    "\n",
    "### Ans\n",
    "There are a total of 4 Operators and 3 Expressions, They are:\n",
    "\n",
    "operators : * , - , / , +\n",
    "\n",
    "Expressions: 'hello' , 87.8 , 6\n",
    "\n",
    "### 2. what is the differance between string and variable?\n",
    "\n",
    "Ans: A variable is used to store of information ,and a string is a type of informatrion you would store in variable. A string is a group of characters or a single chracter usually enclosed in double quotes \" \" or a single quote ' '\n",
    "\n",
    "### 3. Describe three different data types ?\n",
    "\n",
    "### Ans:\n",
    "Three fundamental data types in python are int , float , complex .\n",
    "\n",
    "     1. int data type: We can use int data type to represent whole numbers (integral values)\n",
    "     2. Float data type : float data type to represent floating point values (decimal values)\n",
    "     3. complex datatype : complex data represent complex numbers. it is specified as (real number)+ (imaginary number)"
   ]
  },
  {
   "cell_type": "code",
   "execution_count": 6,
   "id": "85fe01d4",
   "metadata": {},
   "outputs": [
    {
     "name": "stdout",
     "output_type": "stream",
     "text": [
      "7654 <class 'int'>\n",
      "12.0 <class 'float'>\n",
      "(10+2.5j) <class 'complex'>\n"
     ]
    }
   ],
   "source": [
    "# example for int data type\n",
    "int_num = 7654\n",
    "print(int_num, type(int_num))\n",
    "# Example for float data type\n",
    "flo_num=1.2e1\n",
    "print(flo_num, type(flo_num))\n",
    "# example for complex data type\n",
    "com_num= 10+2.5j\n",
    "print(com_num, type(com_num))"
   ]
  },
  {
   "cell_type": "markdown",
   "id": "4202aaaa",
   "metadata": {},
   "source": [
    "### 4. what is an expression made up of? what do all expressions do?\n",
    "\n",
    " Ans:  An expression is a combination of values, variable, operators and calls to functions. Expression need to be                evaluated. if we ask python to print an expression, the interpreter evaluates the          expression and display the result.\n"
   ]
  },
  {
   "cell_type": "code",
   "execution_count": 8,
   "id": "491578ea",
   "metadata": {},
   "outputs": [
    {
     "data": {
      "text/plain": [
       "0"
      ]
     },
     "execution_count": 8,
     "metadata": {},
     "output_type": "execute_result"
    }
   ],
   "source": [
    "4*5+20-40 # Is an Expression, The Python Interpreter Evaluates it to 0"
   ]
  },
  {
   "cell_type": "markdown",
   "id": "af73d1ac",
   "metadata": {},
   "source": [
    "### 5.This assignment statements, like spam = 10. What is the difference between an expression and a statement?\n",
    " \n",
    " ### Ans:\n",
    " An expression is a combination of values, variables, and operators.When we type an expression at the prompt, the interpreter evaluates it, which means that it finds the value of the expression.\n",
    " \n",
    "     eg: 4*5+20-40 ia an example of a statement\n",
    " \n",
    "A statement is a unit of code that has an effect, like creating a variable or displaying a value.When we type a statement, the interpreter executes it, which means that it does whatever the statement says. In general, statements don’t have values.\n",
    "\n",
    "     eg: variable declaration and assignment are statements because they do not return a value\n",
    " "
   ]
  },
  {
   "cell_type": "code",
   "execution_count": 9,
   "id": "d05f62c1",
   "metadata": {},
   "outputs": [
    {
     "name": "stdout",
     "output_type": "stream",
     "text": [
      "Hello world !\n"
     ]
    }
   ],
   "source": [
    "# Example:\n",
    "4*5/20_40 # Is a Expression\n",
    "coursename = 'Ineuron Fullstack Datascience' # Is a statement \n",
    "print(\"Hello world !\") # Is a expression statement"
   ]
  },
  {
   "cell_type": "markdown",
   "id": "41a67690",
   "metadata": {},
   "source": [
    "###  6.After running the following code, what does the variable bacon contain?\n",
    "\n",
    "bacon = 22\n",
    "\n",
    "bacon + 1\n",
    "\n",
    "#### Ans:\n",
    "The variable bacon is set to 22 .The expression bacon + 1 does not         reassign the value in bacon (that would the case if the expression is       like bacon = bacon + 1 instead of bacon + 1)"
   ]
  },
  {
   "cell_type": "code",
   "execution_count": 10,
   "id": "d715fd77",
   "metadata": {},
   "outputs": [
    {
     "name": "stdout",
     "output_type": "stream",
     "text": [
      "22\n"
     ]
    }
   ],
   "source": [
    "# Example Case#1\n",
    "bacon=22\n",
    "bacon+1\n",
    "print(bacon)"
   ]
  },
  {
   "cell_type": "code",
   "execution_count": 11,
   "id": "e8b02f0f",
   "metadata": {},
   "outputs": [
    {
     "name": "stdout",
     "output_type": "stream",
     "text": [
      "23\n"
     ]
    }
   ],
   "source": [
    "#Example Case#2\n",
    "bacon=22\n",
    "bacon=bacon+1 \n",
    "print(bacon)"
   ]
  },
  {
   "cell_type": "markdown",
   "id": "651a429b",
   "metadata": {},
   "source": [
    "### 7.What should the values of the following two terms be?\n",
    "\n",
    "'spam'+'spamspam'\n",
    "\n",
    "'spam'*3\n",
    "\n",
    "#### Ans:\n",
    "Both expressions evaluate to the string 'spamspamspam' Where as the first expression follows String Concatentation and the second expression follows String Multiplication"
   ]
  },
  {
   "cell_type": "code",
   "execution_count": 12,
   "id": "4811c1b0",
   "metadata": {},
   "outputs": [
    {
     "name": "stdout",
     "output_type": "stream",
     "text": [
      "spamspamspam\n",
      "spamspamspam\n"
     ]
    }
   ],
   "source": [
    "print('spam' + 'spamspam') # string concatenation\n",
    "print('spam'*3) # string multiplication"
   ]
  },
  {
   "cell_type": "markdown",
   "id": "6a44de81",
   "metadata": {},
   "source": [
    "### 8. Why is eggs a valid variable name while 100 is invalid?\n",
    "\n",
    "#### Ans:\n",
    "  1.Variable name must start with a letter or the underscore character.\n",
    " \n",
    "  2.Variable name cannot start with a number.\n",
    "  \n",
    "  3.Variable name can only contain alpha-numeric characters and underscores (A-z, 0-9, & _ ).\n",
    "  \n",
    "  4.Variable names are case-sensitive (name, INEURON and ineuron are three different variables).\n",
    "  \n",
    "  5.The reserved words(keywords) cannot be used naming the variable."
   ]
  },
  {
   "cell_type": "code",
   "execution_count": 13,
   "id": "4796b7f0",
   "metadata": {},
   "outputs": [
    {
     "ename": "SyntaxError",
     "evalue": "cannot assign to literal (Temp/ipykernel_9256/3634917690.py, line 2)",
     "output_type": "error",
     "traceback": [
      "\u001b[1;36m  File \u001b[1;32m\"C:\\Users\\User\\AppData\\Local\\Temp/ipykernel_9256/3634917690.py\"\u001b[1;36m, line \u001b[1;32m2\u001b[0m\n\u001b[1;33m    100='hello' # Invalid Variable Initilization\u001b[0m\n\u001b[1;37m    ^\u001b[0m\n\u001b[1;31mSyntaxError\u001b[0m\u001b[1;31m:\u001b[0m cannot assign to literal\n"
     ]
    }
   ],
   "source": [
    "egg='Ineuron' # Valid variable Initilization\n",
    "100='hello' # Invalid Variable Initilization\n",
    "print(egg) #prints the value of egg ie Ineuron\n",
    "print(100) # Raises a Syntax Error as 100 is not a valid variable name"
   ]
  },
  {
   "cell_type": "markdown",
   "id": "d5cbf1f0",
   "metadata": {},
   "source": [
    "### 9.What three functions can be used to get the integer,floating-point number,or string version of a value?\n",
    "\n",
    "#### Ans:\n",
    "  The int(), float(), and str() functions will evaluate to the integer,floating-point number,string version of the value passed to them."
   ]
  },
  {
   "cell_type": "code",
   "execution_count": 14,
   "id": "b90b866d",
   "metadata": {},
   "outputs": [
    {
     "name": "stdout",
     "output_type": "stream",
     "text": [
      "int(10.0) ->  10\n",
      "float(10) ->  10.0\n",
      "str(10) ->  10\n"
     ]
    }
   ],
   "source": [
    "# Examples:\n",
    "print('int(10.0) -> ',int(10.0)) # int() function converts given input to int\n",
    "print('float(10) -> ',float(10)) # float() function converts given input to float\n",
    "print('str(10) -> ',str(10)) # str() function converts given input to string"
   ]
  },
  {
   "cell_type": "markdown",
   "id": "2441833f",
   "metadata": {},
   "source": [
    "### 10.Why does this expression cause an error? how can you fix it?\n",
    "\n",
    "'I have eaten ' + 99 + 'burritos.'\n",
    "#### Ans:\n",
    "  This cause of error is 99.because 99 is not a string. 99 must be typecasted to a string to fix this error. the correct way is:\n",
    " \n",
    " Input: 'I have eaten ' + str(99) + 'burritos.'\n",
    "Output: 'I have eaten 99 burritos.'"
   ]
  },
  {
   "cell_type": "code",
   "execution_count": 15,
   "id": "7b8f8bfb",
   "metadata": {},
   "outputs": [
    {
     "name": "stdout",
     "output_type": "stream",
     "text": [
      "I have eaten 99 burritos\n"
     ]
    }
   ],
   "source": [
    "print('I have eaten '+str(99)+' burritos')"
   ]
  }
 ],
 "metadata": {
  "kernelspec": {
   "display_name": "Python 3 (ipykernel)",
   "language": "python",
   "name": "python3"
  },
  "language_info": {
   "codemirror_mode": {
    "name": "ipython",
    "version": 3
   },
   "file_extension": ".py",
   "mimetype": "text/x-python",
   "name": "python",
   "nbconvert_exporter": "python",
   "pygments_lexer": "ipython3",
   "version": "3.9.7"
  }
 },
 "nbformat": 4,
 "nbformat_minor": 5
}
